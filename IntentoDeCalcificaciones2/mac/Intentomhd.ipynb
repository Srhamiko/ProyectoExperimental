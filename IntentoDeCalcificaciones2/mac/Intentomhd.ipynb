{
 "cells": [
  {
   "cell_type": "code",
   "execution_count": 12,
   "id": "2eb229fe",
   "metadata": {},
   "outputs": [],
   "source": [
    "import SimpleITK as sitk\n",
    "import numpy as np\n",
    "'''\n",
    "This funciton reads a '.mhd' file using SimpleITK and return the image array, origin and spacing of the image.\n",
    "'''\n",
    "def load_itk(filename):\n",
    "    # Reads the image using SimpleITK\n",
    "    itkimage = sitk.ReadImage(filename)\n",
    "\n",
    "    # Convert the image to a  numpy array first and then shuffle the dimensions to get axis in the order z,y,x\n",
    "    ct_scan = sitk.GetArrayFromImage(itkimage)\n",
    "    \n",
    "    # Read the origin of the ct_scan, will be used to convert the coordinates from world to voxel and vice versa.\n",
    "    origin = np.array(list(reversed(itkimage.GetOrigin())))\n",
    "\n",
    "    # Read the spacing along each dimension\n",
    "    spacing = np.array(list(reversed(itkimage.GetSpacing())))\n",
    "\n",
    "    return ct_scan, origin, spacing"
   ]
  },
  {
   "cell_type": "code",
   "execution_count": 16,
   "id": "00fca6f3",
   "metadata": {},
   "outputs": [],
   "source": [
    "ct_scan, origin, spacing =load_itk('output-Dosis-Dose.mhd')"
   ]
  },
  {
   "cell_type": "code",
   "execution_count": 17,
   "id": "2fdad04d",
   "metadata": {
    "scrolled": false
   },
   "outputs": [
    {
     "data": {
      "image/png": "[encoded data removed]",
      "text/plain": [
       "<Figure size 2880x2160 with 1 Axes>"
      ]
     },
     "metadata": {
      "needs_background": "light"
     },
     "output_type": "display_data"
    }
   ],
   "source": [
    "import SimpleITK as sitk\n",
    "import matplotlib.pylab as plt\n",
    "#ct_scans = sitk.GetArrayFromImage(sitk.ReadImage(\"output-Dosis-Dose.mhd\", sitk.sitkFloat32))\n",
    "plt.figure(figsize=(40,30))\n",
    "plt.gray()\n",
    "plt.subplots_adjust(0,0,1,1,0.01,0.01)\n",
    "for i in range(ct_scans.shape[0]):\n",
    "    plt.subplot(5,6,i+1), plt.imshow(ct_scans[i]), plt.axis('off')\n",
    "    # use plt.savefig(...) here if you want to save the images as .jpg, e.g.,\n",
    "plt.show()"
   ]
  },
  {
   "cell_type": "code",
   "execution_count": null,
   "id": "e847025a",
   "metadata": {},
   "outputs": [],
   "source": []
  }
 ],
 "metadata": {
  "kernelspec": {
   "display_name": "Python 3",
   "language": "python",
   "name": "python3"
  }
 },
 "nbformat": 4,
 "nbformat_minor": 5
}
